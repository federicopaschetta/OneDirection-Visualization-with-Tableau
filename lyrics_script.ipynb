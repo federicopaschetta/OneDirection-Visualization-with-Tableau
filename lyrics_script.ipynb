{
 "cells": [
  {
   "cell_type": "code",
   "execution_count": 6,
   "metadata": {},
   "outputs": [],
   "source": [
    "import pandas as pd\n",
    "import lyricsgenius"
   ]
  },
  {
   "cell_type": "code",
   "execution_count": 824,
   "metadata": {},
   "outputs": [],
   "source": [
    "df = pd.read_csv('one_direction_songs.csv')"
   ]
  },
  {
   "cell_type": "code",
   "execution_count": 825,
   "metadata": {},
   "outputs": [],
   "source": [
    "df['Song'] = df['Song'].apply(lambda x: x.strip('\"'))"
   ]
  },
  {
   "cell_type": "code",
   "execution_count": 826,
   "metadata": {},
   "outputs": [],
   "source": [
    "df['Artist(s)'] = df['Artist(s)'].apply(lambda x: x if x=='One Direction' else None)"
   ]
  },
  {
   "cell_type": "code",
   "execution_count": 827,
   "metadata": {},
   "outputs": [],
   "source": [
    "df = df.dropna()"
   ]
  },
  {
   "cell_type": "code",
   "execution_count": 828,
   "metadata": {},
   "outputs": [],
   "source": [
    "def split_every_two(writers):\n",
    "    parts = writers.split()\n",
    "    return [' '.join(parts[i:i+2]) for i in range(0, len(parts), 2)]\n",
    "    \n",
    "df['Writer(s)'] = df['Writer(s)'].apply(split_every_two)"
   ]
  },
  {
   "cell_type": "code",
   "execution_count": 829,
   "metadata": {},
   "outputs": [
    {
     "data": {
      "text/html": [
       "<div>\n",
       "<style scoped>\n",
       "    .dataframe tbody tr th:only-of-type {\n",
       "        vertical-align: middle;\n",
       "    }\n",
       "\n",
       "    .dataframe tbody tr th {\n",
       "        vertical-align: top;\n",
       "    }\n",
       "\n",
       "    .dataframe thead th {\n",
       "        text-align: right;\n",
       "    }\n",
       "</style>\n",
       "<table border=\"1\" class=\"dataframe\">\n",
       "  <thead>\n",
       "    <tr style=\"text-align: right;\">\n",
       "      <th></th>\n",
       "      <th>Song</th>\n",
       "      <th>Artist(s)</th>\n",
       "      <th>Writer(s)</th>\n",
       "      <th>Album(s)</th>\n",
       "      <th>Year</th>\n",
       "    </tr>\n",
       "  </thead>\n",
       "  <tbody>\n",
       "    <tr>\n",
       "      <th>0</th>\n",
       "      <td>18</td>\n",
       "      <td>One Direction</td>\n",
       "      <td>[Ed Sheeran, Oliver Frank]</td>\n",
       "      <td>Four</td>\n",
       "      <td>2014</td>\n",
       "    </tr>\n",
       "    <tr>\n",
       "      <th>1</th>\n",
       "      <td>A.M.</td>\n",
       "      <td>One Direction</td>\n",
       "      <td>[Niall Horan, Liam Payne, Harry Styles, Louis ...</td>\n",
       "      <td>Made in the A.M.</td>\n",
       "      <td>2015</td>\n",
       "    </tr>\n",
       "    <tr>\n",
       "      <th>2</th>\n",
       "      <td>Act My Age</td>\n",
       "      <td>One Direction</td>\n",
       "      <td>[John Ryan, Julian Bunetta, Ed Drewett]</td>\n",
       "      <td>Four</td>\n",
       "      <td>2014</td>\n",
       "    </tr>\n",
       "    <tr>\n",
       "      <th>3</th>\n",
       "      <td>Alive</td>\n",
       "      <td>One Direction</td>\n",
       "      <td>[Julian Bunetta, John Ryan, Jamie Scott, Louis...</td>\n",
       "      <td>Midnight Memories</td>\n",
       "      <td>2013</td>\n",
       "    </tr>\n",
       "    <tr>\n",
       "      <th>4</th>\n",
       "      <td>Another World</td>\n",
       "      <td>One Direction</td>\n",
       "      <td>[Achraf Jannusi, Bilal Hajji, Eric Sanicola, G...</td>\n",
       "      <td>Up All Night</td>\n",
       "      <td>2011</td>\n",
       "    </tr>\n",
       "    <tr>\n",
       "      <th>...</th>\n",
       "      <td>...</td>\n",
       "      <td>...</td>\n",
       "      <td>...</td>\n",
       "      <td>...</td>\n",
       "      <td>...</td>\n",
       "    </tr>\n",
       "    <tr>\n",
       "      <th>89</th>\n",
       "      <td>What Makes You Beautiful</td>\n",
       "      <td>One Direction</td>\n",
       "      <td>[Rami Yacoub, Carl Falk, Savan Kotecha]</td>\n",
       "      <td>Up All Night</td>\n",
       "      <td>2011</td>\n",
       "    </tr>\n",
       "    <tr>\n",
       "      <th>90</th>\n",
       "      <td>Where Do Broken Hearts Go</td>\n",
       "      <td>One Direction</td>\n",
       "      <td>[Harry Styles, Julian Bunetta, Ruth-Anne Cunni...</td>\n",
       "      <td>Four</td>\n",
       "      <td>2014</td>\n",
       "    </tr>\n",
       "    <tr>\n",
       "      <th>91</th>\n",
       "      <td>Why Don't We Go There</td>\n",
       "      <td>One Direction</td>\n",
       "      <td>[Steve Robson, Claude Kelly, Wayne Hector, Lou...</td>\n",
       "      <td>Midnight Memories</td>\n",
       "      <td>2013</td>\n",
       "    </tr>\n",
       "    <tr>\n",
       "      <th>93</th>\n",
       "      <td>Wolves</td>\n",
       "      <td>One Direction</td>\n",
       "      <td>[Niall Horan, Liam Payne, Will Champlin, Andre...</td>\n",
       "      <td>Made in the A.M.</td>\n",
       "      <td>2015</td>\n",
       "    </tr>\n",
       "    <tr>\n",
       "      <th>94</th>\n",
       "      <td>You &amp; I</td>\n",
       "      <td>One Direction</td>\n",
       "      <td>[Jamie Scott, Julian Bunetta, Niall Horan, Joh...</td>\n",
       "      <td>Midnight Memories</td>\n",
       "      <td>2013</td>\n",
       "    </tr>\n",
       "  </tbody>\n",
       "</table>\n",
       "<p>92 rows × 5 columns</p>\n",
       "</div>"
      ],
      "text/plain": [
       "                         Song      Artist(s)  \\\n",
       "0                          18  One Direction   \n",
       "1                        A.M.  One Direction   \n",
       "2                  Act My Age  One Direction   \n",
       "3                       Alive  One Direction   \n",
       "4               Another World  One Direction   \n",
       "..                        ...            ...   \n",
       "89   What Makes You Beautiful  One Direction   \n",
       "90  Where Do Broken Hearts Go  One Direction   \n",
       "91      Why Don't We Go There  One Direction   \n",
       "93                     Wolves  One Direction   \n",
       "94                    You & I  One Direction   \n",
       "\n",
       "                                            Writer(s)           Album(s)  Year  \n",
       "0                          [Ed Sheeran, Oliver Frank]               Four  2014  \n",
       "1   [Niall Horan, Liam Payne, Harry Styles, Louis ...   Made in the A.M.  2015  \n",
       "2             [John Ryan, Julian Bunetta, Ed Drewett]               Four  2014  \n",
       "3   [Julian Bunetta, John Ryan, Jamie Scott, Louis...  Midnight Memories  2013  \n",
       "4   [Achraf Jannusi, Bilal Hajji, Eric Sanicola, G...       Up All Night  2011  \n",
       "..                                                ...                ...   ...  \n",
       "89            [Rami Yacoub, Carl Falk, Savan Kotecha]       Up All Night  2011  \n",
       "90  [Harry Styles, Julian Bunetta, Ruth-Anne Cunni...               Four  2014  \n",
       "91  [Steve Robson, Claude Kelly, Wayne Hector, Lou...  Midnight Memories  2013  \n",
       "93  [Niall Horan, Liam Payne, Will Champlin, Andre...   Made in the A.M.  2015  \n",
       "94  [Jamie Scott, Julian Bunetta, Niall Horan, Joh...  Midnight Memories  2013  \n",
       "\n",
       "[92 rows x 5 columns]"
      ]
     },
     "execution_count": 829,
     "metadata": {},
     "output_type": "execute_result"
    }
   ],
   "source": [
    "df"
   ]
  },
  {
   "cell_type": "code",
   "execution_count": null,
   "metadata": {},
   "outputs": [],
   "source": [
    "from lyricsgenius import Genius\n",
    "\n",
    "genius = Genius('tfW8z_jNFSh-DTnS3qyHIU4zPXeWBSBX_ybqVJ9cgSai1OeXyImORVT0r7007F5w')\n",
    "artist = genius.search_artist('One Direction', max_songs=100)"
   ]
  },
  {
   "cell_type": "code",
   "execution_count": 959,
   "metadata": {},
   "outputs": [],
   "source": [
    "import re\n",
    "for song in artist.songs:\n",
    "    with open(f'songs_lyrics/{'_'.join(song.title.strip('?').split())}.txt', 'w', encoding='utf-8') as output:\n",
    "        text = ' '.join(song.lyrics.split('Lyrics')[1:])\n",
    "        text = text.split('Embed')[0]\n",
    "        nums= re.findall(r'\\d+', text)\n",
    "        if nums:\n",
    "            last = nums[-1]\n",
    "            pos_last = text.rfind(nums[-1])\n",
    "            text = text[:pos_last]\n",
    "        output.write(song.title+'\\n')\n",
    "        output.write(text)"
   ]
  },
  {
   "cell_type": "code",
   "execution_count": 981,
   "metadata": {},
   "outputs": [],
   "source": [
    "def get_lyrics(song):\n",
    "    with open(f'songs_lyrics/{'_'.join(song.strip('?').split(' '))}.txt', 'r', encoding='utf-8') as file:\n",
    "        return ' '.join(file.readlines()[1:])"
   ]
  },
  {
   "cell_type": "code",
   "execution_count": 982,
   "metadata": {},
   "outputs": [],
   "source": [
    "df['Lyrics'] = df['Song'].apply(get_lyrics)"
   ]
  },
  {
   "cell_type": "markdown",
   "metadata": {},
   "source": [
    "### Getting YouTube views"
   ]
  },
  {
   "cell_type": "code",
   "execution_count": 119,
   "metadata": {},
   "outputs": [],
   "source": [
    "from selenium import webdriver\n",
    "from selenium.webdriver.common.by import By \n",
    "import time"
   ]
  },
  {
   "cell_type": "code",
   "execution_count": 269,
   "metadata": {},
   "outputs": [],
   "source": [
    "driver = webdriver.Firefox()"
   ]
  },
  {
   "cell_type": "code",
   "execution_count": 217,
   "metadata": {},
   "outputs": [],
   "source": [
    "def click_button_cookies():\n",
    "    try:\n",
    "        btns = driver.find_elements(By.CSS_SELECTOR, '[class=\"yt-spec-button-shape-next yt-spec-button-shape-next--filled yt-spec-button-shape-next--mono yt-spec-button-shape-next--size-m\"]')\n",
    "        btns[0].click()\n",
    "    except:\n",
    "        pass"
   ]
  },
  {
   "cell_type": "code",
   "execution_count": 218,
   "metadata": {},
   "outputs": [],
   "source": [
    "base_string = 'https://www.youtube.com/results?search_query=one+direction+'"
   ]
  },
  {
   "cell_type": "code",
   "execution_count": 219,
   "metadata": {},
   "outputs": [],
   "source": [
    "def get_video_views(title):\n",
    "    rem_part = '+'.join(title.lower().split(' '))\n",
    "    driver.get(base_string+rem_part)\n",
    "    time.sleep(2)\n",
    "    click_button_cookies()\n",
    "    time.sleep(2)\n",
    "    meta = driver.find_element(By.CSS_SELECTOR, 'div #metadata-line span')\n",
    "    return(' '.join(meta.text.split(' ')[:2]))"
   ]
  },
  {
   "cell_type": "code",
   "execution_count": null,
   "metadata": {},
   "outputs": [],
   "source": [
    "# df['Views'] = df['Song'].apply(get_video_views)\n",
    "df['Views'] = df['Views'].apply(lambda x: x.replace('Mln', '').strip())\n",
    "df['Views'] = df['Views'].apply(lambda x: x.replace('Mrd', '.000').strip())"
   ]
  },
  {
   "cell_type": "markdown",
   "metadata": {},
   "source": [
    "### Making up Lyrics"
   ]
  },
  {
   "cell_type": "code",
   "execution_count": 983,
   "metadata": {},
   "outputs": [],
   "source": [
    "df['Lyrics'] = df['Lyrics'].apply(lambda x: x.replace('\\n', ''))"
   ]
  },
  {
   "cell_type": "code",
   "execution_count": 984,
   "metadata": {},
   "outputs": [],
   "source": [
    "df_views = pd.read_csv('df_views.csv')"
   ]
  },
  {
   "cell_type": "code",
   "execution_count": 985,
   "metadata": {},
   "outputs": [],
   "source": [
    "df_views['Views'] = df_views['Views'].str.replace(',', '.').astype(float)"
   ]
  },
  {
   "cell_type": "code",
   "execution_count": 986,
   "metadata": {},
   "outputs": [],
   "source": [
    "df.reset_index(drop=True, inplace=True)\n",
    "df['Views'] = df_views['Views']"
   ]
  },
  {
   "cell_type": "markdown",
   "metadata": {},
   "source": [
    "### Getting Words per singer"
   ]
  },
  {
   "cell_type": "code",
   "execution_count": 987,
   "metadata": {},
   "outputs": [],
   "source": [
    "singers_names = ['Harry', 'Liam', 'Louis', 'Niall', 'Zayn', 'All']"
   ]
  },
  {
   "cell_type": "code",
   "execution_count": 991,
   "metadata": {},
   "outputs": [],
   "source": [
    "import re\n",
    "def append_singing_part(dict_singers, singer, lyrics):\n",
    "    dict_singers[singer].append(lyrics)\n",
    "\n",
    "def get_singers_words(text):\n",
    "    dict_singers = {name: [] for name in singers_names}\n",
    "    pattern = r\"(?=\\[)\"\n",
    "    sections = re.split(pattern, text)\n",
    "    sections = [section for section in sections if section]\n",
    "    in_pattern = r\"\\[([^:]+): ([^]]+)\\] (.+)\"\n",
    "    for section in sections:\n",
    "        match = re.match(in_pattern, section)\n",
    "        if match:\n",
    "            singer = match.group(2)\n",
    "            lyrics = match.group(3)\n",
    "            singer = singer.replace('&', ',')\n",
    "            if 'All' in singer:\n",
    "                append_singing_part(dict_singers, 'All', lyrics)   \n",
    "            elif ',' in singer:\n",
    "                singers = singer.split(', ')\n",
    "                for sing in list(set(singers)):\n",
    "                    append_singing_part(dict_singers, sing.strip(), lyrics)\n",
    "            else:\n",
    "                append_singing_part(dict_singers, singer, lyrics)\n",
    "    return dict_singers\n",
    "    "
   ]
  },
  {
   "cell_type": "code",
   "execution_count": 992,
   "metadata": {},
   "outputs": [],
   "source": [
    "def clean_lyrics(text):\n",
    "    pattern = r\"\\[[^]]*\\]\"\n",
    "    clean_text = re.sub(pattern, \"\", text).strip()\n",
    "    clean_text = re.sub(r\"\\s+\", \" \", clean_text)\n",
    "    return clean_text"
   ]
  },
  {
   "cell_type": "code",
   "execution_count": 993,
   "metadata": {},
   "outputs": [],
   "source": [
    "for singer in singers_names:\n",
    "    df[singer] = df['Lyrics'].apply(lambda x: get_singers_words(x)[singer])\n",
    "    df[singer] = df[singer].apply(lambda x: ' '.join(x))"
   ]
  },
  {
   "cell_type": "code",
   "execution_count": 1003,
   "metadata": {},
   "outputs": [],
   "source": [
    "df['Lyrics'] = df['Lyrics'].apply(lambda x: clean_lyrics(x))"
   ]
  },
  {
   "cell_type": "markdown",
   "metadata": {},
   "source": [
    "### Get singing percentages"
   ]
  },
  {
   "cell_type": "code",
   "execution_count": 996,
   "metadata": {},
   "outputs": [],
   "source": [
    "def count_words(text):\n",
    "    return len(text.split())"
   ]
  },
  {
   "cell_type": "code",
   "execution_count": 997,
   "metadata": {},
   "outputs": [],
   "source": [
    "df['Lyrics_word_count'] = df['Lyrics'].apply(count_words)\n",
    "df['All_word_count'] = df['All'].apply(count_words)"
   ]
  },
  {
   "cell_type": "code",
   "execution_count": 999,
   "metadata": {},
   "outputs": [],
   "source": [
    "df['All%'] = df['All_word_count'] / df['Lyrics_word_count'] * 100\n",
    "for singer in singers_names:\n",
    "    df[singer+'_word_count'] = df[singer].apply(count_words)\n",
    "    df[singer+'%'] = df[singer+'_word_count'] / df['Lyrics_word_count'] * 100"
   ]
  },
  {
   "cell_type": "code",
   "execution_count": 4,
   "metadata": {},
   "outputs": [
    {
     "ename": "NameError",
     "evalue": "name 'df' is not defined",
     "output_type": "error",
     "traceback": [
      "\u001b[1;31m---------------------------------------------------------------------------\u001b[0m",
      "\u001b[1;31mNameError\u001b[0m                                 Traceback (most recent call last)",
      "Cell \u001b[1;32mIn[4], line 1\u001b[0m\n\u001b[1;32m----> 1\u001b[0m df \u001b[38;5;241m=\u001b[39m \u001b[43mdf\u001b[49m\u001b[38;5;241m.\u001b[39mdrop(singers_names, axis\u001b[38;5;241m=\u001b[39m\u001b[38;5;241m1\u001b[39m)\n",
      "\u001b[1;31mNameError\u001b[0m: name 'df' is not defined"
     ]
    }
   ],
   "source": [
    "df = df.drop(singers_names, axis=1)"
   ]
  },
  {
   "cell_type": "code",
   "execution_count": 3,
   "metadata": {},
   "outputs": [
    {
     "ename": "NameError",
     "evalue": "name 'df' is not defined",
     "output_type": "error",
     "traceback": [
      "\u001b[1;31m---------------------------------------------------------------------------\u001b[0m",
      "\u001b[1;31mNameError\u001b[0m                                 Traceback (most recent call last)",
      "Cell \u001b[1;32mIn[3], line 1\u001b[0m\n\u001b[1;32m----> 1\u001b[0m \u001b[43mdf\u001b[49m\u001b[38;5;241m.\u001b[39mto_csv(\u001b[38;5;124m'\u001b[39m\u001b[38;5;124mdf_main.csv\u001b[39m\u001b[38;5;124m'\u001b[39m, index\u001b[38;5;241m=\u001b[39m\u001b[38;5;28;01mFalse\u001b[39;00m)\n\u001b[0;32m      2\u001b[0m df\u001b[38;5;241m.\u001b[39mto_excel(\u001b[38;5;124m'\u001b[39m\u001b[38;5;124mdf_main.xlsx\u001b[39m\u001b[38;5;124m'\u001b[39m, index\u001b[38;5;241m=\u001b[39m\u001b[38;5;28;01mFalse\u001b[39;00m)\n",
      "\u001b[1;31mNameError\u001b[0m: name 'df' is not defined"
     ]
    }
   ],
   "source": [
    "df.to_csv('df_main.csv', index=False)\n",
    "df.to_excel('df_main.xlsx', index=False)"
   ]
  }
 ],
 "metadata": {
  "kernelspec": {
   "display_name": "Python 3",
   "language": "python",
   "name": "python3"
  },
  "language_info": {
   "codemirror_mode": {
    "name": "ipython",
    "version": 3
   },
   "file_extension": ".py",
   "mimetype": "text/x-python",
   "name": "python",
   "nbconvert_exporter": "python",
   "pygments_lexer": "ipython3",
   "version": "3.12.3"
  }
 },
 "nbformat": 4,
 "nbformat_minor": 2
}
