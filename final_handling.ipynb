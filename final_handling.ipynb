{
 "cells": [
  {
   "cell_type": "code",
   "execution_count": 46,
   "metadata": {},
   "outputs": [],
   "source": [
    "import pandas as pd\n",
    "import numpy as np\n",
    "import nltk\n",
    "from nltk.corpus import stopwords\n",
    "from nltk.tokenize import word_tokenize\n",
    "from nltk.stem import WordNetLemmatizer\n",
    "from nltk import pos_tag\n",
    "from collections import Counter\n",
    "import re\n"
   ]
  },
  {
   "cell_type": "code",
   "execution_count": 64,
   "metadata": {},
   "outputs": [],
   "source": [
    "singers_names = ['Harry Styles', 'Zayn Malik', 'Louis Tomlinson', 'Niall Horan', 'Liam Payne']"
   ]
  },
  {
   "cell_type": "code",
   "execution_count": 2,
   "metadata": {},
   "outputs": [],
   "source": [
    "df = pd.read_csv('df_main.csv')"
   ]
  },
  {
   "cell_type": "code",
   "execution_count": 12,
   "metadata": {},
   "outputs": [],
   "source": [
    "def get_nouns_verbs(text):\n",
    "    stop_words = set(stopwords.words('english'))\n",
    "    word_tokens = word_tokenize(text.lower())\n",
    "    filtered_text = [word for word in word_tokens if word.isalnum() and word not in stop_words]\n",
    "\n",
    "    lemmatizer = WordNetLemmatizer()\n",
    "    lemmatized_words = [lemmatizer.lemmatize(word) for word in filtered_text]\n",
    "\n",
    "    pos_tags = pos_tag(lemmatized_words)\n",
    "    nouns_verbs = [word for word, tag in pos_tags if tag.startswith('N') or tag.startswith('V')]\n",
    "\n",
    "    return nouns_verbs"
   ]
  },
  {
   "cell_type": "code",
   "execution_count": 23,
   "metadata": {},
   "outputs": [],
   "source": [
    "def most_common_word(text):\n",
    "    nouns_verbs = get_nouns_verbs(text)\n",
    "    word_counts = Counter(nouns_verbs)\n",
    "    return word_counts.most_common(1)[0][0]"
   ]
  },
  {
   "cell_type": "code",
   "execution_count": 24,
   "metadata": {},
   "outputs": [],
   "source": [
    "df['Most_Common'] = df['Lyrics'].apply(most_common_word)"
   ]
  },
  {
   "cell_type": "code",
   "execution_count": 51,
   "metadata": {},
   "outputs": [],
   "source": [
    "df['Writer(s)'] = df['Writer(s)'].apply(lambda x: re.sub(r'[\\'\\[\\]\\\\]', '', x))"
   ]
  },
  {
   "cell_type": "code",
   "execution_count": 65,
   "metadata": {},
   "outputs": [],
   "source": [
    "for singer in singers_names:\n",
    "    df[singer+'_W'] = df['Writer(s)'].apply(lambda x: True if singer in x else False)"
   ]
  },
  {
   "cell_type": "code",
   "execution_count": 53,
   "metadata": {},
   "outputs": [],
   "source": [
    "unique_writers = df['Writer(s)'].explode().unique()"
   ]
  },
  {
   "cell_type": "code",
   "execution_count": 74,
   "metadata": {},
   "outputs": [],
   "source": [
    "writers_dict = {}\n",
    "\n",
    "for writers in unique_writers:\n",
    "    writers = writers.split(',')\n",
    "    for writer in writers:\n",
    "        writer = writer.strip()\n",
    "        if writer in writers_dict:\n",
    "            writers_dict[writer] = writers_dict[writer]+1\n",
    "        else:\n",
    "            writers_dict[writer] = 1"
   ]
  },
  {
   "cell_type": "code",
   "execution_count": 75,
   "metadata": {},
   "outputs": [
    {
     "data": {
      "text/plain": [
       "{'Ed Sheeran': 4,\n",
       " 'Oliver Frank': 1,\n",
       " 'Niall Horan': 17,\n",
       " 'Liam Payne': 31,\n",
       " 'Harry Styles': 21,\n",
       " 'Louis Tomlinson': 34,\n",
       " 'Ed Drewett': 9,\n",
       " 'John Ryan': 33,\n",
       " 'Julian Bunetta': 36,\n",
       " 'Jamie Scott': 24,\n",
       " 'Achraf Jannusi': 2,\n",
       " 'Bilal Hajji': 1,\n",
       " 'Eric Sanicola': 1,\n",
       " 'Geo Slam': 1,\n",
       " 'RedOne Teddy': 1,\n",
       " 'Sky': 1,\n",
       " 'Kristoffer Fogelmark': 3,\n",
       " 'Savan Kotecha': 10,\n",
       " 'Albin Nedler': 2,\n",
       " 'Rami Yacoub': 6,\n",
       " 'Wayne Hector': 10,\n",
       " 'Carl Falk': 6,\n",
       " 'Zayn Malik': 11,\n",
       " 'Sam Martin': 1,\n",
       " 'Tom Fletcher': 4,\n",
       " 'Danny Jones': 3,\n",
       " 'Dougie Poynter': 3,\n",
       " 'Jacob Kasher': 3,\n",
       " 'Gamal \"LunchMoney\"': 1,\n",
       " 'Lewis John': 1,\n",
       " 'Ryan': 1,\n",
       " 'Steve Robson': 6,\n",
       " 'Nandini Srivastava': 1,\n",
       " 'Maureen McDonald': 1,\n",
       " 'Bernhard Lloyd': 1,\n",
       " 'Marian Gold': 1,\n",
       " 'Frank Mertens': 1,\n",
       " 'S. Pages': 1,\n",
       " 'Mehner': 1,\n",
       " 'Steve Mac': 1,\n",
       " 'August Rigo': 1,\n",
       " 'Lindy Robbins': 4,\n",
       " 'Shellback Kristian': 1,\n",
       " 'Lundin': 1,\n",
       " 'Ina Wroldsen': 1,\n",
       " 'Ammar Malik': 1,\n",
       " 'Ross Golan': 1,\n",
       " 'Johan Carlsson': 2,\n",
       " 'Cagaanan Rami': 1,\n",
       " 'Yacoub Carl': 1,\n",
       " 'Falk Savan': 1,\n",
       " 'Kotecha Shellback': 1,\n",
       " 'Kristian Lundin': 1,\n",
       " 'Abin Nedler': 1,\n",
       " 'Theodore Geiger': 2,\n",
       " 'Fiona Bevan': 1,\n",
       " 'Tebey Ottoh': 2,\n",
       " 'Tommy Lee': 2,\n",
       " 'James': 1,\n",
       " 'Si Hulbert': 1,\n",
       " 'Iain James': 1,\n",
       " 'James Murray': 1,\n",
       " 'Matt Squire': 2,\n",
       " 'Mustapha Omer': 1,\n",
       " 'Ruth-Anne Cunningham': 2,\n",
       " 'Shellback': 1,\n",
       " 'Debbie Harry': 1,\n",
       " 'Nigel Harrison': 1,\n",
       " '\"John ONeill\"': 1,\n",
       " 'Robert Conlon': 1,\n",
       " 'Alexander Gowers': 1,\n",
       " 'Jesse Shatkin': 1,\n",
       " 'Maureen Anne': 1,\n",
       " 'McDonald': 1,\n",
       " 'Ryan Tedder': 1,\n",
       " 'Lukasz Gottwald': 1,\n",
       " 'Henry Walter': 1,\n",
       " 'Peter Svensson': 1,\n",
       " 'Allan Grigg': 1,\n",
       " 'Sam Hollander': 1,\n",
       " 'RedOne BeatGeek': 1,\n",
       " 'Jimmy Joker': 1,\n",
       " 'Teddy Sky': 1,\n",
       " 'Alaina Beaton': 1,\n",
       " 'Jacknife Lee': 1,\n",
       " 'Gary Lightbody': 1,\n",
       " 'Roy Stride': 1,\n",
       " 'Josh Wilkinson': 1,\n",
       " 'Paul Meehan': 1,\n",
       " 'Toby Gad': 2,\n",
       " 'Kelly Clarkson': 1,\n",
       " 'Tom Meredith': 1,\n",
       " 'Shep Solomon': 1,\n",
       " 'TMS': 1,\n",
       " 'James Peter': 1,\n",
       " 'Wallevik Tommy': 1,\n",
       " 'P Gregersen': 1,\n",
       " 'Toby Smith': 1,\n",
       " 'Trevor Dahl': 1,\n",
       " 'Mike Needle': 1,\n",
       " 'Daniel Bryer': 1,\n",
       " 'Ali Tamposi': 1,\n",
       " 'Claude Kelly': 1,\n",
       " 'Will Champlin': 1,\n",
       " 'Andrew Haas': 1,\n",
       " 'Ian Franzino': 1}"
      ]
     },
     "execution_count": 75,
     "metadata": {},
     "output_type": "execute_result"
    }
   ],
   "source": [
    "writers_dict"
   ]
  },
  {
   "cell_type": "code",
   "execution_count": 78,
   "metadata": {},
   "outputs": [],
   "source": [
    "df_writers = pd.DataFrame(list(writers_dict.items()), columns=['Name', 'NumSongs'])"
   ]
  },
  {
   "cell_type": "code",
   "execution_count": 80,
   "metadata": {},
   "outputs": [],
   "source": [
    "df_writers.to_csv('df_writers.csv', index=False)"
   ]
  }
 ],
 "metadata": {
  "kernelspec": {
   "display_name": "Python 3",
   "language": "python",
   "name": "python3"
  },
  "language_info": {
   "codemirror_mode": {
    "name": "ipython",
    "version": 3
   },
   "file_extension": ".py",
   "mimetype": "text/x-python",
   "name": "python",
   "nbconvert_exporter": "python",
   "pygments_lexer": "ipython3",
   "version": "3.12.3"
  }
 },
 "nbformat": 4,
 "nbformat_minor": 2
}
