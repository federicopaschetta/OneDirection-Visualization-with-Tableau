{
 "cells": [
  {
   "cell_type": "code",
   "execution_count": 1,
   "metadata": {},
   "outputs": [],
   "source": [
    "import pandas as pd\n",
    "import numpy as np\n",
    "import nltk\n",
    "from nltk.corpus import stopwords\n",
    "from nltk.tokenize import word_tokenize\n",
    "from nltk.stem import WordNetLemmatizer\n",
    "from nltk import pos_tag\n",
    "from collections import Counter\n",
    "import re\n"
   ]
  },
  {
   "cell_type": "code",
   "execution_count": 11,
   "metadata": {},
   "outputs": [],
   "source": [
    "singers_names = ['Harry Styles', 'Zayn Malik', 'Louis Tomlinson', 'Niall Horan', 'Liam Payne']"
   ]
  },
  {
   "cell_type": "code",
   "execution_count": 2,
   "metadata": {},
   "outputs": [],
   "source": [
    "df = pd.read_csv('df_main.csv')"
   ]
  },
  {
   "cell_type": "code",
   "execution_count": 28,
   "metadata": {},
   "outputs": [],
   "source": [
    "def get_nouns_verbs(text):\n",
    "    stop_words = set(stopwords.words('english'))\n",
    "    word_tokens = word_tokenize(text.lower())\n",
    "    filtered_text = [word for word in word_tokens if word.isalnum() and word not in stop_words]\n",
    "\n",
    "    lemmatizer = WordNetLemmatizer()\n",
    "    lemmatized_words = [lemmatizer.lemmatize(word) for word in filtered_text]\n",
    "\n",
    "    pos_tags = pos_tag(lemmatized_words)\n",
    "    nouns_verbs = [word for word, tag in pos_tags if tag.startswith('N') or tag.startswith('V')]\n",
    "\n",
    "    return nouns_verbs"
   ]
  },
  {
   "cell_type": "code",
   "execution_count": 29,
   "metadata": {},
   "outputs": [],
   "source": [
    "def most_common_word(text):\n",
    "    nouns_verbs = get_nouns_verbs(text)\n",
    "    word_counts = Counter(nouns_verbs)\n",
    "    return word_counts.most_common(1)[0][0]"
   ]
  },
  {
   "cell_type": "code",
   "execution_count": 26,
   "metadata": {},
   "outputs": [],
   "source": [
    "def most_common_word_count(text):\n",
    "    nouns_verbs = get_nouns_verbs(text)\n",
    "    word_counts = Counter(nouns_verbs)\n",
    "    return word_counts.most_common(1)[0][1]"
   ]
  },
  {
   "cell_type": "code",
   "execution_count": 30,
   "metadata": {},
   "outputs": [],
   "source": [
    "import string\n",
    "def get_unique_words(text):\n",
    "    text = text.translate(str.maketrans('', '', string.punctuation)).lower()\n",
    "    words = text.split()\n",
    "    unique_words = set(words)\n",
    "    num_unique_words = len(unique_words)\n",
    "    return num_unique_words"
   ]
  },
  {
   "cell_type": "code",
   "execution_count": 92,
   "metadata": {},
   "outputs": [],
   "source": [
    "df['Unique_Words'] = df['Lyrics'].apply(get_unique_words)"
   ]
  },
  {
   "cell_type": "code",
   "execution_count": 31,
   "metadata": {},
   "outputs": [],
   "source": [
    "df['Most_Common'] = df['Lyrics'].apply(most_common_word)\n",
    "df['Most_Common_Count'] = df['Lyrics'].apply(most_common_word_count)"
   ]
  },
  {
   "cell_type": "code",
   "execution_count": 51,
   "metadata": {},
   "outputs": [],
   "source": [
    "df['Writer(s)'] = df['Writer(s)'].apply(lambda x: re.sub(r'[\\'\\[\\]\\\\]', '', x))"
   ]
  },
  {
   "cell_type": "code",
   "execution_count": 65,
   "metadata": {},
   "outputs": [],
   "source": [
    "for singer in singers_names:\n",
    "    df[singer+'_W'] = df['Writer(s)'].apply(lambda x: True if singer in x else False)"
   ]
  },
  {
   "cell_type": "code",
   "execution_count": 53,
   "metadata": {},
   "outputs": [],
   "source": [
    "unique_writers = df['Writer(s)'].explode().unique()"
   ]
  },
  {
   "cell_type": "code",
   "execution_count": 74,
   "metadata": {},
   "outputs": [],
   "source": [
    "writers_dict = {}\n",
    "\n",
    "for writers in unique_writers:\n",
    "    writers = writers.split(',')\n",
    "    for writer in writers:\n",
    "        writer = writer.strip()\n",
    "        if writer in writers_dict:\n",
    "            writers_dict[writer] = writers_dict[writer]+1\n",
    "        else:\n",
    "            writers_dict[writer] = 1"
   ]
  },
  {
   "cell_type": "code",
   "execution_count": 75,
   "metadata": {},
   "outputs": [
    {
     "data": {
      "text/plain": [
       "{'Ed Sheeran': 4,\n",
       " 'Oliver Frank': 1,\n",
       " 'Niall Horan': 17,\n",
       " 'Liam Payne': 31,\n",
       " 'Harry Styles': 21,\n",
       " 'Louis Tomlinson': 34,\n",
       " 'Ed Drewett': 9,\n",
       " 'John Ryan': 33,\n",
       " 'Julian Bunetta': 36,\n",
       " 'Jamie Scott': 24,\n",
       " 'Achraf Jannusi': 2,\n",
       " 'Bilal Hajji': 1,\n",
       " 'Eric Sanicola': 1,\n",
       " 'Geo Slam': 1,\n",
       " 'RedOne Teddy': 1,\n",
       " 'Sky': 1,\n",
       " 'Kristoffer Fogelmark': 3,\n",
       " 'Savan Kotecha': 10,\n",
       " 'Albin Nedler': 2,\n",
       " 'Rami Yacoub': 6,\n",
       " 'Wayne Hector': 10,\n",
       " 'Carl Falk': 6,\n",
       " 'Zayn Malik': 11,\n",
       " 'Sam Martin': 1,\n",
       " 'Tom Fletcher': 4,\n",
       " 'Danny Jones': 3,\n",
       " 'Dougie Poynter': 3,\n",
       " 'Jacob Kasher': 3,\n",
       " 'Gamal \"LunchMoney\"': 1,\n",
       " 'Lewis John': 1,\n",
       " 'Ryan': 1,\n",
       " 'Steve Robson': 6,\n",
       " 'Nandini Srivastava': 1,\n",
       " 'Maureen McDonald': 1,\n",
       " 'Bernhard Lloyd': 1,\n",
       " 'Marian Gold': 1,\n",
       " 'Frank Mertens': 1,\n",
       " 'S. Pages': 1,\n",
       " 'Mehner': 1,\n",
       " 'Steve Mac': 1,\n",
       " 'August Rigo': 1,\n",
       " 'Lindy Robbins': 4,\n",
       " 'Shellback Kristian': 1,\n",
       " 'Lundin': 1,\n",
       " 'Ina Wroldsen': 1,\n",
       " 'Ammar Malik': 1,\n",
       " 'Ross Golan': 1,\n",
       " 'Johan Carlsson': 2,\n",
       " 'Cagaanan Rami': 1,\n",
       " 'Yacoub Carl': 1,\n",
       " 'Falk Savan': 1,\n",
       " 'Kotecha Shellback': 1,\n",
       " 'Kristian Lundin': 1,\n",
       " 'Abin Nedler': 1,\n",
       " 'Theodore Geiger': 2,\n",
       " 'Fiona Bevan': 1,\n",
       " 'Tebey Ottoh': 2,\n",
       " 'Tommy Lee': 2,\n",
       " 'James': 1,\n",
       " 'Si Hulbert': 1,\n",
       " 'Iain James': 1,\n",
       " 'James Murray': 1,\n",
       " 'Matt Squire': 2,\n",
       " 'Mustapha Omer': 1,\n",
       " 'Ruth-Anne Cunningham': 2,\n",
       " 'Shellback': 1,\n",
       " 'Debbie Harry': 1,\n",
       " 'Nigel Harrison': 1,\n",
       " '\"John ONeill\"': 1,\n",
       " 'Robert Conlon': 1,\n",
       " 'Alexander Gowers': 1,\n",
       " 'Jesse Shatkin': 1,\n",
       " 'Maureen Anne': 1,\n",
       " 'McDonald': 1,\n",
       " 'Ryan Tedder': 1,\n",
       " 'Lukasz Gottwald': 1,\n",
       " 'Henry Walter': 1,\n",
       " 'Peter Svensson': 1,\n",
       " 'Allan Grigg': 1,\n",
       " 'Sam Hollander': 1,\n",
       " 'RedOne BeatGeek': 1,\n",
       " 'Jimmy Joker': 1,\n",
       " 'Teddy Sky': 1,\n",
       " 'Alaina Beaton': 1,\n",
       " 'Jacknife Lee': 1,\n",
       " 'Gary Lightbody': 1,\n",
       " 'Roy Stride': 1,\n",
       " 'Josh Wilkinson': 1,\n",
       " 'Paul Meehan': 1,\n",
       " 'Toby Gad': 2,\n",
       " 'Kelly Clarkson': 1,\n",
       " 'Tom Meredith': 1,\n",
       " 'Shep Solomon': 1,\n",
       " 'TMS': 1,\n",
       " 'James Peter': 1,\n",
       " 'Wallevik Tommy': 1,\n",
       " 'P Gregersen': 1,\n",
       " 'Toby Smith': 1,\n",
       " 'Trevor Dahl': 1,\n",
       " 'Mike Needle': 1,\n",
       " 'Daniel Bryer': 1,\n",
       " 'Ali Tamposi': 1,\n",
       " 'Claude Kelly': 1,\n",
       " 'Will Champlin': 1,\n",
       " 'Andrew Haas': 1,\n",
       " 'Ian Franzino': 1}"
      ]
     },
     "execution_count": 75,
     "metadata": {},
     "output_type": "execute_result"
    }
   ],
   "source": [
    "writers_dict"
   ]
  },
  {
   "cell_type": "code",
   "execution_count": 78,
   "metadata": {},
   "outputs": [],
   "source": [
    "df_writers = pd.DataFrame(list(writers_dict.items()), columns=['Name', 'NumSongs'])"
   ]
  },
  {
   "cell_type": "code",
   "execution_count": 83,
   "metadata": {},
   "outputs": [],
   "source": [
    "df_writers.to_csv('df_writers.csv', index=False)"
   ]
  },
  {
   "cell_type": "code",
   "execution_count": 2,
   "metadata": {},
   "outputs": [],
   "source": [
    "df = pd.read_csv('df_main.csv')"
   ]
  },
  {
   "cell_type": "code",
   "execution_count": 7,
   "metadata": {},
   "outputs": [
    {
     "data": {
      "text/plain": [
       "27"
      ]
     },
     "execution_count": 7,
     "metadata": {},
     "output_type": "execute_result"
    }
   ],
   "source": [
    "len(df.columns)"
   ]
  },
  {
   "cell_type": "code",
   "execution_count": 14,
   "metadata": {},
   "outputs": [
    {
     "data": {
      "text/html": [
       "<div>\n",
       "<style scoped>\n",
       "    .dataframe tbody tr th:only-of-type {\n",
       "        vertical-align: middle;\n",
       "    }\n",
       "\n",
       "    .dataframe tbody tr th {\n",
       "        vertical-align: top;\n",
       "    }\n",
       "\n",
       "    .dataframe thead th {\n",
       "        text-align: right;\n",
       "    }\n",
       "</style>\n",
       "<table border=\"1\" class=\"dataframe\">\n",
       "  <thead>\n",
       "    <tr style=\"text-align: right;\">\n",
       "      <th></th>\n",
       "      <th>Song</th>\n",
       "      <th>Artist(s)</th>\n",
       "      <th>Writer(s)</th>\n",
       "      <th>Album(s)</th>\n",
       "      <th>Year</th>\n",
       "      <th>Lyrics</th>\n",
       "      <th>Views</th>\n",
       "      <th>Lyrics_word_count</th>\n",
       "      <th>All_word_count</th>\n",
       "      <th>All%</th>\n",
       "      <th>...</th>\n",
       "      <th>Niall%</th>\n",
       "      <th>Zayn_word_count</th>\n",
       "      <th>Zayn%</th>\n",
       "      <th>Most_Common</th>\n",
       "      <th>Harry Styles_W</th>\n",
       "      <th>Zayn Malik_W</th>\n",
       "      <th>Louis Tomlinson_W</th>\n",
       "      <th>Niall Horan_W</th>\n",
       "      <th>Liam Payne_W</th>\n",
       "      <th>Unique_Words</th>\n",
       "    </tr>\n",
       "  </thead>\n",
       "  <tbody>\n",
       "    <tr>\n",
       "      <th>0</th>\n",
       "      <td>18</td>\n",
       "      <td>One Direction</td>\n",
       "      <td>Ed Sheeran, Oliver Frank</td>\n",
       "      <td>Four</td>\n",
       "      <td>2014</td>\n",
       "      <td>I got a heart and I got a soul Believe me, I w...</td>\n",
       "      <td>70.0</td>\n",
       "      <td>365</td>\n",
       "      <td>155</td>\n",
       "      <td>42.465753</td>\n",
       "      <td>...</td>\n",
       "      <td>15.616438</td>\n",
       "      <td>37</td>\n",
       "      <td>10.136986</td>\n",
       "      <td>love</td>\n",
       "      <td>False</td>\n",
       "      <td>False</td>\n",
       "      <td>False</td>\n",
       "      <td>False</td>\n",
       "      <td>False</td>\n",
       "      <td>96</td>\n",
       "    </tr>\n",
       "    <tr>\n",
       "      <th>1</th>\n",
       "      <td>A.M.</td>\n",
       "      <td>One Direction</td>\n",
       "      <td>Niall Horan, Liam Payne, Harry Styles, Louis T...</td>\n",
       "      <td>Made in the A.M.</td>\n",
       "      <td>2015</td>\n",
       "      <td>Won't you stay till the A.M.? All my favourite...</td>\n",
       "      <td>4.4</td>\n",
       "      <td>365</td>\n",
       "      <td>129</td>\n",
       "      <td>35.342466</td>\n",
       "      <td>...</td>\n",
       "      <td>13.972603</td>\n",
       "      <td>0</td>\n",
       "      <td>0.000000</td>\n",
       "      <td>stay</td>\n",
       "      <td>True</td>\n",
       "      <td>False</td>\n",
       "      <td>True</td>\n",
       "      <td>True</td>\n",
       "      <td>True</td>\n",
       "      <td>98</td>\n",
       "    </tr>\n",
       "    <tr>\n",
       "      <th>2</th>\n",
       "      <td>Act My Age</td>\n",
       "      <td>One Direction</td>\n",
       "      <td>John Ryan, Julian Bunetta, Ed Drewett</td>\n",
       "      <td>Four</td>\n",
       "      <td>2014</td>\n",
       "      <td>One, two, three, four When I'm fat and old and...</td>\n",
       "      <td>20.0</td>\n",
       "      <td>246</td>\n",
       "      <td>119</td>\n",
       "      <td>48.373984</td>\n",
       "      <td>...</td>\n",
       "      <td>15.853659</td>\n",
       "      <td>41</td>\n",
       "      <td>16.666667</td>\n",
       "      <td>act</td>\n",
       "      <td>False</td>\n",
       "      <td>False</td>\n",
       "      <td>False</td>\n",
       "      <td>False</td>\n",
       "      <td>False</td>\n",
       "      <td>74</td>\n",
       "    </tr>\n",
       "    <tr>\n",
       "      <th>3</th>\n",
       "      <td>Alive</td>\n",
       "      <td>One Direction</td>\n",
       "      <td>Julian Bunetta, John Ryan, Jamie Scott, Louis ...</td>\n",
       "      <td>Midnight Memories</td>\n",
       "      <td>2013</td>\n",
       "      <td>My mother told me I should go and get some the...</td>\n",
       "      <td>1.3</td>\n",
       "      <td>306</td>\n",
       "      <td>109</td>\n",
       "      <td>35.620915</td>\n",
       "      <td>...</td>\n",
       "      <td>15.032680</td>\n",
       "      <td>28</td>\n",
       "      <td>9.150327</td>\n",
       "      <td>said</td>\n",
       "      <td>False</td>\n",
       "      <td>False</td>\n",
       "      <td>True</td>\n",
       "      <td>False</td>\n",
       "      <td>False</td>\n",
       "      <td>111</td>\n",
       "    </tr>\n",
       "    <tr>\n",
       "      <th>4</th>\n",
       "      <td>Another World</td>\n",
       "      <td>One Direction</td>\n",
       "      <td>Achraf Jannusi, Bilal Hajji, Eric Sanicola, Ge...</td>\n",
       "      <td>Up All Night</td>\n",
       "      <td>2011</td>\n",
       "      <td>It's not me, it's not you, there's a reason I'...</td>\n",
       "      <td>1.2</td>\n",
       "      <td>390</td>\n",
       "      <td>195</td>\n",
       "      <td>50.000000</td>\n",
       "      <td>...</td>\n",
       "      <td>6.666667</td>\n",
       "      <td>34</td>\n",
       "      <td>8.717949</td>\n",
       "      <td>take</td>\n",
       "      <td>False</td>\n",
       "      <td>False</td>\n",
       "      <td>False</td>\n",
       "      <td>False</td>\n",
       "      <td>False</td>\n",
       "      <td>89</td>\n",
       "    </tr>\n",
       "  </tbody>\n",
       "</table>\n",
       "<p>5 rows × 27 columns</p>\n",
       "</div>"
      ],
      "text/plain": [
       "            Song      Artist(s)  \\\n",
       "0             18  One Direction   \n",
       "1           A.M.  One Direction   \n",
       "2     Act My Age  One Direction   \n",
       "3          Alive  One Direction   \n",
       "4  Another World  One Direction   \n",
       "\n",
       "                                           Writer(s)           Album(s)  Year  \\\n",
       "0                           Ed Sheeran, Oliver Frank               Four  2014   \n",
       "1  Niall Horan, Liam Payne, Harry Styles, Louis T...   Made in the A.M.  2015   \n",
       "2              John Ryan, Julian Bunetta, Ed Drewett               Four  2014   \n",
       "3  Julian Bunetta, John Ryan, Jamie Scott, Louis ...  Midnight Memories  2013   \n",
       "4  Achraf Jannusi, Bilal Hajji, Eric Sanicola, Ge...       Up All Night  2011   \n",
       "\n",
       "                                              Lyrics  Views  \\\n",
       "0  I got a heart and I got a soul Believe me, I w...   70.0   \n",
       "1  Won't you stay till the A.M.? All my favourite...    4.4   \n",
       "2  One, two, three, four When I'm fat and old and...   20.0   \n",
       "3  My mother told me I should go and get some the...    1.3   \n",
       "4  It's not me, it's not you, there's a reason I'...    1.2   \n",
       "\n",
       "   Lyrics_word_count  All_word_count       All%  ...     Niall%  \\\n",
       "0                365             155  42.465753  ...  15.616438   \n",
       "1                365             129  35.342466  ...  13.972603   \n",
       "2                246             119  48.373984  ...  15.853659   \n",
       "3                306             109  35.620915  ...  15.032680   \n",
       "4                390             195  50.000000  ...   6.666667   \n",
       "\n",
       "   Zayn_word_count      Zayn%  Most_Common  Harry Styles_W  Zayn Malik_W  \\\n",
       "0               37  10.136986         love           False         False   \n",
       "1                0   0.000000         stay            True         False   \n",
       "2               41  16.666667          act           False         False   \n",
       "3               28   9.150327         said           False         False   \n",
       "4               34   8.717949         take           False         False   \n",
       "\n",
       "   Louis Tomlinson_W  Niall Horan_W  Liam Payne_W  Unique_Words  \n",
       "0              False          False         False            96  \n",
       "1               True           True          True            98  \n",
       "2              False          False         False            74  \n",
       "3               True          False         False           111  \n",
       "4              False          False         False            89  \n",
       "\n",
       "[5 rows x 27 columns]"
      ]
     },
     "execution_count": 14,
     "metadata": {},
     "output_type": "execute_result"
    }
   ],
   "source": [
    "df.head()"
   ]
  },
  {
   "cell_type": "code",
   "execution_count": 20,
   "metadata": {},
   "outputs": [],
   "source": [
    "def add_only_writer(writers):\n",
    "    i = 0\n",
    "    count = 0\n",
    "    member = None\n",
    "    writers = writers.split(', ')\n",
    "    while i<len(writers) and count<2:\n",
    "        if writers[i] in singers_names:\n",
    "            count = count + 1\n",
    "            member = writers[i]\n",
    "        i = i+1\n",
    "    if count!=0 and count<2:\n",
    "        return member\n",
    "    return None\n",
    "    "
   ]
  },
  {
   "cell_type": "code",
   "execution_count": 21,
   "metadata": {},
   "outputs": [],
   "source": [
    "df['Main_One'] = df['Writer(s)'].apply(add_only_writer)"
   ]
  },
  {
   "cell_type": "code",
   "execution_count": 33,
   "metadata": {},
   "outputs": [],
   "source": [
    "df.to_excel('df_main.xlsx', index=False)\n",
    "df.to_csv('df_main.csv', index=False)"
   ]
  },
  {
   "cell_type": "code",
   "execution_count": 37,
   "metadata": {},
   "outputs": [],
   "source": [
    "most_common_word = df['Most_Common'].tolist()"
   ]
  },
  {
   "cell_type": "code",
   "execution_count": 39,
   "metadata": {},
   "outputs": [],
   "source": [
    "dict_most_frequent_word = {}\n",
    "for word in most_common_word:\n",
    "    dict_most_frequent_word[word] = df['Lyrics'].str.count(word).sum()"
   ]
  },
  {
   "cell_type": "code",
   "execution_count": 44,
   "metadata": {},
   "outputs": [],
   "source": [
    "from operator import itemgetter\n",
    "dict_most_frequent_word = dict(sorted(dict_most_frequent_word.items(), key=itemgetter(1), reverse=True))\n"
   ]
  },
  {
   "cell_type": "code",
   "execution_count": 51,
   "metadata": {},
   "outputs": [],
   "source": [
    "most_freq_df = pd.DataFrame(dict_most_frequent_word.items(), columns=['Word', 'Count'])"
   ]
  },
  {
   "cell_type": "code",
   "execution_count": 53,
   "metadata": {},
   "outputs": [],
   "source": [
    "most_freq_df.to_csv('most_freq_df.csv', index=True)"
   ]
  },
  {
   "cell_type": "code",
   "execution_count": 2,
   "metadata": {},
   "outputs": [],
   "source": [
    "df = pd.read_excel('df_main.xlsx')"
   ]
  },
  {
   "cell_type": "code",
   "execution_count": 31,
   "metadata": {},
   "outputs": [
    {
     "data": {
      "text/plain": [
       "37"
      ]
     },
     "execution_count": 31,
     "metadata": {},
     "output_type": "execute_result"
    }
   ],
   "source": [
    "df[df['Louis Tomlinson_W']==True]['Song'].count()"
   ]
  },
  {
   "cell_type": "code",
   "execution_count": 32,
   "metadata": {},
   "outputs": [
    {
     "data": {
      "text/plain": [
       "17"
      ]
     },
     "execution_count": 32,
     "metadata": {},
     "output_type": "execute_result"
    }
   ],
   "source": [
    "df[df['Niall Horan_W']==True]['Song'].count()"
   ]
  },
  {
   "cell_type": "code",
   "execution_count": 36,
   "metadata": {},
   "outputs": [
    {
     "data": {
      "text/plain": [
       "1"
      ]
     },
     "execution_count": 36,
     "metadata": {},
     "output_type": "execute_result"
    }
   ],
   "source": [
    "df[df['Main_One']=='Liam Payne']['Song'].count()"
   ]
  },
  {
   "cell_type": "code",
   "execution_count": 35,
   "metadata": {},
   "outputs": [
    {
     "data": {
      "text/plain": [
       "4"
      ]
     },
     "execution_count": 35,
     "metadata": {},
     "output_type": "execute_result"
    }
   ],
   "source": [
    "df[df['Main_One']=='Louis Tomlinson']['Song'].count()"
   ]
  }
 ],
 "metadata": {
  "kernelspec": {
   "display_name": "Python 3",
   "language": "python",
   "name": "python3"
  },
  "language_info": {
   "codemirror_mode": {
    "name": "ipython",
    "version": 3
   },
   "file_extension": ".py",
   "mimetype": "text/x-python",
   "name": "python",
   "nbconvert_exporter": "python",
   "pygments_lexer": "ipython3",
   "version": "3.12.3"
  }
 },
 "nbformat": 4,
 "nbformat_minor": 2
}
